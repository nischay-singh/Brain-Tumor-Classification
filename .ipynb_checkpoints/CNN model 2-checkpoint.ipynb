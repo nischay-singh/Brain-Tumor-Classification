{
 "cells": [
  {
   "cell_type": "code",
   "execution_count": 15,
   "metadata": {},
   "outputs": [],
   "source": [
    "import numpy as np\n",
    "import pandas as pd\n",
    "import matplotlib.pyplot as plt\n",
    "import seaborn as sns\n",
    "%matplotlib inline"
   ]
  },
  {
   "cell_type": "code",
   "execution_count": 8,
   "metadata": {},
   "outputs": [],
   "source": [
    "import os"
   ]
  },
  {
   "cell_type": "code",
   "execution_count": 16,
   "metadata": {},
   "outputs": [],
   "source": [
    "from matplotlib.image import imread"
   ]
  },
  {
   "cell_type": "code",
   "execution_count": 7,
   "metadata": {},
   "outputs": [],
   "source": [
    "data_dir='C:\\\\Users\\\\Nischay Singh\\\\Desktop\\\\Programming\\\\python\\\\Neural Networks\\\\Brain Tumor Classification\\\\Brain Tumor Classification images'"
   ]
  },
  {
   "cell_type": "code",
   "execution_count": 9,
   "metadata": {},
   "outputs": [
    {
     "data": {
      "text/plain": [
       "['Testing', 'Training']"
      ]
     },
     "execution_count": 9,
     "metadata": {},
     "output_type": "execute_result"
    }
   ],
   "source": [
    "os.listdir(data_dir)"
   ]
  },
  {
   "cell_type": "code",
   "execution_count": 10,
   "metadata": {},
   "outputs": [],
   "source": [
    "train_path = data_dir + \"\\\\Training\\\\\"\n",
    "test_path = data_dir + \"\\\\Testing\\\\\""
   ]
  },
  {
   "cell_type": "code",
   "execution_count": 13,
   "metadata": {},
   "outputs": [
    {
     "data": {
      "text/plain": [
       "['glioma', 'meningioma', 'notumor', 'pituitary']"
      ]
     },
     "execution_count": 13,
     "metadata": {},
     "output_type": "execute_result"
    }
   ],
   "source": [
    "os.listdir(train_path)"
   ]
  },
  {
   "cell_type": "code",
   "execution_count": 14,
   "metadata": {},
   "outputs": [
    {
     "data": {
      "text/plain": [
       "['glioma', 'meningioma', 'notumor', 'pituitary']"
      ]
     },
     "execution_count": 14,
     "metadata": {},
     "output_type": "execute_result"
    }
   ],
   "source": [
    "os.listdir(test_path)"
   ]
  },
  {
   "cell_type": "code",
   "execution_count": 13,
   "metadata": {},
   "outputs": [],
   "source": [
    "image_shape = (64, 64, 1)"
   ]
  },
  {
   "cell_type": "code",
   "execution_count": 16,
   "metadata": {},
   "outputs": [],
   "source": [
    "from tensorflow.keras.models import Sequential\n",
    "from tensorflow.keras.layers import Conv2D, MaxPool2D, Flatten, Dense, Dropout, BatchNormalization"
   ]
  },
  {
   "cell_type": "code",
   "execution_count": 17,
   "metadata": {},
   "outputs": [],
   "source": [
    "model = Sequential()\n",
    "\n",
    "model.add(Conv2D(filters = 32, kernel_size = (3,3), input_shape = image_shape, activation='relu'))\n",
    "model.add(BatchNormalization())\n",
    "model.add(MaxPool2D(pool_size=(2,2)))\n",
    "\n",
    "model.add(Conv2D(filters = 32, kernel_size = (3,3), activation='relu'))\n",
    "model.add(BatchNormalization())\n",
    "model.add(MaxPool2D(pool_size=(2,2)))\n",
    "\n",
    "model.add(Flatten())\n",
    "\n",
    "model.add(Dense(units = 252, activation ='relu'))\n",
    "model.add(Dropout(0.2))\n",
    "\n",
    "model.add(Dense(units = 252, activation = 'relu'))\n",
    "model.add(Dropout(0.2))\n",
    "\n",
    "model.add(Dense(units = 4, activation = 'softmax'))\n",
    "\n",
    "model.compile(loss= 'categorical_crossentropy', optimizer = 'adam', metrics = ['accuracy'])"
   ]
  },
  {
   "cell_type": "code",
   "execution_count": 18,
   "metadata": {},
   "outputs": [],
   "source": [
    "from tensorflow.keras.preprocessing.image import ImageDataGenerator"
   ]
  },
  {
   "cell_type": "code",
   "execution_count": 19,
   "metadata": {},
   "outputs": [],
   "source": [
    "train_gen = ImageDataGenerator(rescale = 1./255,\n",
    "                              rotation_range = 20,\n",
    "                              horizontal_flip=True,\n",
    "                              shear_range = 0.2,\n",
    "                              height_shift_range = 0.07,\n",
    "                              zoom_range = 0.2)\n",
    "\n",
    "test_gen = ImageDataGenerator(rescale = 1./255)"
   ]
  },
  {
   "cell_type": "code",
   "execution_count": 20,
   "metadata": {},
   "outputs": [],
   "source": [
    "batch_size = 32"
   ]
  },
  {
   "cell_type": "code",
   "execution_count": 21,
   "metadata": {},
   "outputs": [
    {
     "name": "stdout",
     "output_type": "stream",
     "text": [
      "Found 5710 images belonging to 4 classes.\n"
     ]
    }
   ],
   "source": [
    "train = train_gen.flow_from_directory(train_path, \n",
    "                                      target_size=image_shape[:2], \n",
    "                                      batch_size=batch_size, \n",
    "                                      class_mode='categorical',\n",
    "                                      color_mode = 'grayscale')"
   ]
  },
  {
   "cell_type": "code",
   "execution_count": 168,
   "metadata": {},
   "outputs": [],
   "source": [
    "label=['glioma', 'meningioma', 'notumor', 'pituitary']"
   ]
  },
  {
   "cell_type": "code",
   "execution_count": 22,
   "metadata": {},
   "outputs": [
    {
     "name": "stdout",
     "output_type": "stream",
     "text": [
      "Found 1311 images belonging to 4 classes.\n"
     ]
    }
   ],
   "source": [
    "test = test_gen.flow_from_directory(test_path, \n",
    "                                    target_size=image_shape[:2], \n",
    "                                    batch_size=batch_size, \n",
    "                                    class_mode='categorical',\n",
    "                                    color_mode = 'grayscale')"
   ]
  },
  {
   "cell_type": "code",
   "execution_count": 28,
   "metadata": {},
   "outputs": [
    {
     "name": "stderr",
     "output_type": "stream",
     "text": [
      "c:\\users\\nischay singh\\appdata\\local\\programs\\python\\python39\\lib\\site-packages\\tensorflow\\python\\keras\\engine\\training.py:1940: UserWarning: `Model.fit_generator` is deprecated and will be removed in a future version. Please use `Model.fit`, which supports generators.\n",
      "  warnings.warn('`Model.fit_generator` is deprecated and '\n"
     ]
    },
    {
     "name": "stdout",
     "output_type": "stream",
     "text": [
      "Epoch 1/50\n",
      "178/178 [==============================] - 24s 130ms/step - loss: 1.0623 - accuracy: 0.6074 - val_loss: 3.5076 - val_accuracy: 0.2297\n",
      "Epoch 2/50\n",
      "178/178 [==============================] - 23s 129ms/step - loss: 0.7445 - accuracy: 0.7099 - val_loss: 2.7316 - val_accuracy: 0.3492\n",
      "Epoch 3/50\n",
      "178/178 [==============================] - 24s 135ms/step - loss: 0.6194 - accuracy: 0.7663 - val_loss: 0.8900 - val_accuracy: 0.6867\n",
      "Epoch 4/50\n",
      "178/178 [==============================] - 29s 160ms/step - loss: 0.5307 - accuracy: 0.7985 - val_loss: 0.7844 - val_accuracy: 0.6992\n",
      "Epoch 5/50\n",
      "178/178 [==============================] - 31s 171ms/step - loss: 0.4773 - accuracy: 0.8144 - val_loss: 1.6085 - val_accuracy: 0.5852\n",
      "Epoch 6/50\n",
      "178/178 [==============================] - 33s 187ms/step - loss: 0.4223 - accuracy: 0.8404 - val_loss: 1.4310 - val_accuracy: 0.5930\n",
      "Epoch 7/50\n",
      "178/178 [==============================] - 28s 157ms/step - loss: 0.3965 - accuracy: 0.8499 - val_loss: 2.0298 - val_accuracy: 0.5555\n",
      "Epoch 8/50\n",
      "178/178 [==============================] - 24s 133ms/step - loss: 0.3827 - accuracy: 0.8572 - val_loss: 1.6940 - val_accuracy: 0.5930\n",
      "Epoch 9/50\n",
      "178/178 [==============================] - 27s 152ms/step - loss: 0.3439 - accuracy: 0.8709 - val_loss: 0.5056 - val_accuracy: 0.8133\n",
      "Epoch 10/50\n",
      "178/178 [==============================] - 28s 159ms/step - loss: 0.3199 - accuracy: 0.8825 - val_loss: 0.9716 - val_accuracy: 0.6812\n",
      "Epoch 11/50\n",
      "178/178 [==============================] - 30s 168ms/step - loss: 0.3083 - accuracy: 0.8878 - val_loss: 1.0394 - val_accuracy: 0.6969\n",
      "Epoch 12/50\n",
      "178/178 [==============================] - 24s 133ms/step - loss: 0.3042 - accuracy: 0.8864 - val_loss: 0.9954 - val_accuracy: 0.6562\n",
      "Epoch 13/50\n",
      "178/178 [==============================] - 28s 157ms/step - loss: 0.2806 - accuracy: 0.8927 - val_loss: 0.5394 - val_accuracy: 0.8180\n",
      "Epoch 14/50\n",
      "178/178 [==============================] - 31s 173ms/step - loss: 0.2731 - accuracy: 0.9017 - val_loss: 1.6829 - val_accuracy: 0.6062\n",
      "Epoch 15/50\n",
      "178/178 [==============================] - 25s 140ms/step - loss: 0.2435 - accuracy: 0.9128 - val_loss: 1.5599 - val_accuracy: 0.6016\n",
      "Epoch 16/50\n",
      "178/178 [==============================] - 25s 141ms/step - loss: 0.2276 - accuracy: 0.9156 - val_loss: 0.2848 - val_accuracy: 0.8930\n",
      "Epoch 17/50\n",
      "178/178 [==============================] - 26s 147ms/step - loss: 0.2349 - accuracy: 0.9128 - val_loss: 0.6119 - val_accuracy: 0.8297\n",
      "Epoch 18/50\n",
      "178/178 [==============================] - 28s 158ms/step - loss: 0.2328 - accuracy: 0.9126 - val_loss: 0.3270 - val_accuracy: 0.8805\n",
      "Epoch 19/50\n",
      "178/178 [==============================] - 31s 175ms/step - loss: 0.2204 - accuracy: 0.9178 - val_loss: 0.3812 - val_accuracy: 0.8609\n",
      "Epoch 20/50\n",
      "178/178 [==============================] - 33s 184ms/step - loss: 0.2229 - accuracy: 0.9179 - val_loss: 1.7679 - val_accuracy: 0.6078\n",
      "Epoch 21/50\n",
      "178/178 [==============================] - 28s 155ms/step - loss: 0.2060 - accuracy: 0.9243 - val_loss: 1.1906 - val_accuracy: 0.7000\n",
      "Epoch 22/50\n",
      "178/178 [==============================] - 32s 178ms/step - loss: 0.2194 - accuracy: 0.9227 - val_loss: 0.5367 - val_accuracy: 0.8203\n",
      "Epoch 23/50\n",
      "178/178 [==============================] - 28s 160ms/step - loss: 0.2032 - accuracy: 0.9271 - val_loss: 0.5797 - val_accuracy: 0.7703\n",
      "Epoch 24/50\n",
      "178/178 [==============================] - 28s 157ms/step - loss: 0.1895 - accuracy: 0.9278 - val_loss: 0.7200 - val_accuracy: 0.7734\n",
      "Epoch 25/50\n",
      "178/178 [==============================] - 35s 195ms/step - loss: 0.2042 - accuracy: 0.9255 - val_loss: 0.8538 - val_accuracy: 0.7773\n",
      "Epoch 26/50\n",
      "178/178 [==============================] - 24s 136ms/step - loss: 0.1962 - accuracy: 0.9276 - val_loss: 0.8330 - val_accuracy: 0.7836\n",
      "Epoch 27/50\n",
      "178/178 [==============================] - 24s 136ms/step - loss: 0.1730 - accuracy: 0.9361 - val_loss: 1.1157 - val_accuracy: 0.7437\n",
      "Epoch 28/50\n",
      "178/178 [==============================] - 23s 131ms/step - loss: 0.1764 - accuracy: 0.9361 - val_loss: 0.4112 - val_accuracy: 0.8734\n",
      "Epoch 29/50\n",
      "178/178 [==============================] - 23s 130ms/step - loss: 0.1620 - accuracy: 0.9443 - val_loss: 0.4469 - val_accuracy: 0.8602\n",
      "Epoch 30/50\n",
      "178/178 [==============================] - 23s 130ms/step - loss: 0.1691 - accuracy: 0.9396 - val_loss: 4.1156 - val_accuracy: 0.4828\n",
      "Epoch 31/50\n",
      "178/178 [==============================] - 23s 130ms/step - loss: 0.1622 - accuracy: 0.9412 - val_loss: 0.4905 - val_accuracy: 0.8562\n",
      "Epoch 32/50\n",
      "178/178 [==============================] - 23s 130ms/step - loss: 0.1702 - accuracy: 0.9389 - val_loss: 0.7689 - val_accuracy: 0.7750\n",
      "Epoch 33/50\n",
      "178/178 [==============================] - 23s 130ms/step - loss: 0.1600 - accuracy: 0.9410 - val_loss: 1.0453 - val_accuracy: 0.7359\n",
      "Epoch 34/50\n",
      "178/178 [==============================] - 23s 130ms/step - loss: 0.1646 - accuracy: 0.9428 - val_loss: 0.6486 - val_accuracy: 0.8148\n",
      "Epoch 35/50\n",
      "178/178 [==============================] - 23s 130ms/step - loss: 0.1654 - accuracy: 0.9431 - val_loss: 0.2994 - val_accuracy: 0.8984\n",
      "Epoch 36/50\n",
      "178/178 [==============================] - 23s 131ms/step - loss: 0.1578 - accuracy: 0.9415 - val_loss: 1.1208 - val_accuracy: 0.7414\n",
      "Epoch 37/50\n",
      "178/178 [==============================] - 23s 130ms/step - loss: 0.1505 - accuracy: 0.9495 - val_loss: 0.5520 - val_accuracy: 0.8461\n",
      "Epoch 38/50\n",
      "178/178 [==============================] - 23s 132ms/step - loss: 0.1456 - accuracy: 0.9505 - val_loss: 0.4771 - val_accuracy: 0.8531\n",
      "Epoch 39/50\n",
      "178/178 [==============================] - 24s 132ms/step - loss: 0.1544 - accuracy: 0.9449 - val_loss: 0.7121 - val_accuracy: 0.8109\n",
      "Epoch 40/50\n",
      "178/178 [==============================] - 23s 131ms/step - loss: 0.1586 - accuracy: 0.9435 - val_loss: 1.0241 - val_accuracy: 0.7570\n",
      "Epoch 41/50\n",
      "178/178 [==============================] - 25s 143ms/step - loss: 0.1531 - accuracy: 0.9447 - val_loss: 0.3714 - val_accuracy: 0.8781\n",
      "Epoch 42/50\n",
      "178/178 [==============================] - 29s 164ms/step - loss: 0.1591 - accuracy: 0.9428 - val_loss: 0.7485 - val_accuracy: 0.8102\n",
      "Epoch 43/50\n",
      "178/178 [==============================] - 30s 168ms/step - loss: 0.1355 - accuracy: 0.9521 - val_loss: 0.9175 - val_accuracy: 0.7516\n",
      "Epoch 44/50\n",
      "178/178 [==============================] - 47s 265ms/step - loss: 0.1479 - accuracy: 0.9472 - val_loss: 0.2950 - val_accuracy: 0.9047\n",
      "Epoch 45/50\n",
      "178/178 [==============================] - 46s 259ms/step - loss: 0.1306 - accuracy: 0.9539 - val_loss: 0.2255 - val_accuracy: 0.9187\n",
      "Epoch 46/50\n",
      "178/178 [==============================] - 37s 206ms/step - loss: 0.1190 - accuracy: 0.9591 - val_loss: 0.4237 - val_accuracy: 0.8594\n",
      "Epoch 47/50\n",
      "178/178 [==============================] - 45s 255ms/step - loss: 0.1291 - accuracy: 0.9521 - val_loss: 0.8874 - val_accuracy: 0.7922\n",
      "Epoch 48/50\n",
      "178/178 [==============================] - 46s 259ms/step - loss: 0.1253 - accuracy: 0.9535 - val_loss: 0.7469 - val_accuracy: 0.8117\n",
      "Epoch 49/50\n",
      "178/178 [==============================] - 42s 234ms/step - loss: 0.1294 - accuracy: 0.9530 - val_loss: 2.1953 - val_accuracy: 0.6492\n",
      "Epoch 50/50\n",
      "178/178 [==============================] - 48s 271ms/step - loss: 0.1333 - accuracy: 0.9558 - val_loss: 1.3380 - val_accuracy: 0.7094\n"
     ]
    }
   ],
   "source": [
    "results = model.fit_generator(train, epochs=50, steps_per_epoch = 5710//32, validation_data = test, validation_steps = 1311//32)"
   ]
  },
  {
   "cell_type": "code",
   "execution_count": 29,
   "metadata": {},
   "outputs": [],
   "source": [
    "history = model.history.history"
   ]
  },
  {
   "cell_type": "code",
   "execution_count": 30,
   "metadata": {},
   "outputs": [
    {
     "name": "stdout",
     "output_type": "stream",
     "text": [
      "41/41 [==============================] - 12s 288ms/step - loss: 1.3393 - accuracy: 0.7094\n"
     ]
    },
    {
     "data": {
      "text/plain": [
       "[1.3392860889434814, 0.709382176399231]"
      ]
     },
     "execution_count": 30,
     "metadata": {},
     "output_type": "execute_result"
    }
   ],
   "source": [
    "model.evaluate(test)"
   ]
  },
  {
   "cell_type": "code",
   "execution_count": 23,
   "metadata": {},
   "outputs": [],
   "source": [
    "model2 = Sequential()\n",
    "\n",
    "model2.add(Conv2D(filters = 64, kernel_size = (7,7), input_shape = image_shape, padding = 'same', activation='relu'))\n",
    "model2.add(BatchNormalization())\n",
    "model2.add(MaxPool2D(pool_size=(2,2)))\n",
    "\n",
    "model2.add(Conv2D(filters = 128, kernel_size = (7,7), padding='same', activation='relu'))\n",
    "model2.add(BatchNormalization())\n",
    "model2.add(MaxPool2D(pool_size=(2,2)))\n",
    "\n",
    "model2.add(Conv2D(filters = 256, kernel_size = (7,7), padding='same', activation='relu'))\n",
    "model2.add(BatchNormalization())\n",
    "model2.add(MaxPool2D(pool_size=(2,2)))\n",
    "\n",
    "model2.add(Conv2D(filters = 512, kernel_size = (7,7), padding='same', activation='relu'))\n",
    "model2.add(BatchNormalization())\n",
    "model2.add(MaxPool2D(pool_size=(2,2)))\n",
    "\n",
    "model2.add(Flatten())\n",
    "\n",
    "model2.add(Dense(units = 512, activation ='relu'))\n",
    "model2.add(Dropout(0.2))\n",
    "\n",
    "model2.add(Dense(units = 512, activation = 'relu'))\n",
    "model2.add(Dropout(0.2))\n",
    "\n",
    "model2.add(Dense(units = 4, activation = 'softmax'))\n",
    "\n",
    "model2.compile(loss= 'categorical_crossentropy', optimizer = 'adam', metrics = ['categorical_accuracy'])"
   ]
  },
  {
   "cell_type": "code",
   "execution_count": 24,
   "metadata": {},
   "outputs": [
    {
     "name": "stderr",
     "output_type": "stream",
     "text": [
      "c:\\users\\nischay singh\\appdata\\local\\programs\\python\\python39\\lib\\site-packages\\tensorflow\\python\\keras\\engine\\training.py:1940: UserWarning: `Model.fit_generator` is deprecated and will be removed in a future version. Please use `Model.fit`, which supports generators.\n",
      "  warnings.warn('`Model.fit_generator` is deprecated and '\n"
     ]
    },
    {
     "name": "stdout",
     "output_type": "stream",
     "text": [
      "Epoch 1/50\n",
      "178/178 [==============================] - 321s 2s/step - loss: 1.6609 - categorical_accuracy: 0.5440 - val_loss: 1.9211 - val_categorical_accuracy: 0.2297\n",
      "Epoch 2/50\n",
      "178/178 [==============================] - 323s 2s/step - loss: 0.8915 - categorical_accuracy: 0.6448 - val_loss: 2.3164 - val_categorical_accuracy: 0.3469\n",
      "Epoch 3/50\n",
      "178/178 [==============================] - 340s 2s/step - loss: 0.7436 - categorical_accuracy: 0.7115 - val_loss: 0.8890 - val_categorical_accuracy: 0.6664\n",
      "Epoch 4/50\n",
      "178/178 [==============================] - 331s 2s/step - loss: 0.6840 - categorical_accuracy: 0.7422 - val_loss: 2.1223 - val_categorical_accuracy: 0.3945\n",
      "Epoch 5/50\n",
      "178/178 [==============================] - 332s 2s/step - loss: 0.6060 - categorical_accuracy: 0.7675 - val_loss: 1.1141 - val_categorical_accuracy: 0.5883\n",
      "Epoch 6/50\n",
      "178/178 [==============================] - 335s 2s/step - loss: 0.5400 - categorical_accuracy: 0.7954 - val_loss: 0.6434 - val_categorical_accuracy: 0.7086\n",
      "Epoch 7/50\n",
      "178/178 [==============================] - 335s 2s/step - loss: 0.5330 - categorical_accuracy: 0.8089 - val_loss: 1.0864 - val_categorical_accuracy: 0.7156\n",
      "Epoch 8/50\n",
      "178/178 [==============================] - 335s 2s/step - loss: 0.4563 - categorical_accuracy: 0.8297 - val_loss: 0.4563 - val_categorical_accuracy: 0.8211\n",
      "Epoch 9/50\n",
      "178/178 [==============================] - 334s 2s/step - loss: 0.3913 - categorical_accuracy: 0.8545 - val_loss: 0.6128 - val_categorical_accuracy: 0.8086\n",
      "Epoch 10/50\n",
      "178/178 [==============================] - 333s 2s/step - loss: 0.3681 - categorical_accuracy: 0.8663 - val_loss: 0.5690 - val_categorical_accuracy: 0.7563\n",
      "Epoch 11/50\n",
      "178/178 [==============================] - 334s 2s/step - loss: 0.3319 - categorical_accuracy: 0.8750 - val_loss: 1.0784 - val_categorical_accuracy: 0.6641\n",
      "Epoch 12/50\n",
      "178/178 [==============================] - 334s 2s/step - loss: 0.3030 - categorical_accuracy: 0.8887 - val_loss: 11.6274 - val_categorical_accuracy: 0.3125\n",
      "Epoch 13/50\n",
      "178/178 [==============================] - 334s 2s/step - loss: 0.2865 - categorical_accuracy: 0.9019 - val_loss: 2.5800 - val_categorical_accuracy: 0.4445\n",
      "Epoch 14/50\n",
      "178/178 [==============================] - 333s 2s/step - loss: 0.2574 - categorical_accuracy: 0.9100 - val_loss: 0.7276 - val_categorical_accuracy: 0.7656\n",
      "Epoch 15/50\n",
      "178/178 [==============================] - 361s 2s/step - loss: 0.2377 - categorical_accuracy: 0.9163 - val_loss: 0.2621 - val_categorical_accuracy: 0.9055\n",
      "Epoch 16/50\n",
      "178/178 [==============================] - 426s 2s/step - loss: 0.2308 - categorical_accuracy: 0.9225 - val_loss: 0.9474 - val_categorical_accuracy: 0.6867\n",
      "Epoch 17/50\n",
      "178/178 [==============================] - 390s 2s/step - loss: 0.2051 - categorical_accuracy: 0.9292 - val_loss: 1.4597 - val_categorical_accuracy: 0.6078\n",
      "Epoch 18/50\n",
      "178/178 [==============================] - 363s 2s/step - loss: 0.2252 - categorical_accuracy: 0.9269 - val_loss: 0.8437 - val_categorical_accuracy: 0.7164\n",
      "Epoch 19/50\n",
      "178/178 [==============================] - 361s 2s/step - loss: 0.2019 - categorical_accuracy: 0.9327 - val_loss: 1.5192 - val_categorical_accuracy: 0.7172\n",
      "Epoch 20/50\n",
      "178/178 [==============================] - 452s 3s/step - loss: 0.1944 - categorical_accuracy: 0.9304 - val_loss: 0.4058 - val_categorical_accuracy: 0.8891\n",
      "Epoch 21/50\n",
      "178/178 [==============================] - 386s 2s/step - loss: 0.2010 - categorical_accuracy: 0.9341 - val_loss: 2.4963 - val_categorical_accuracy: 0.5055\n",
      "Epoch 22/50\n",
      "178/178 [==============================] - 377s 2s/step - loss: 0.2000 - categorical_accuracy: 0.9269 - val_loss: 0.4355 - val_categorical_accuracy: 0.8352\n",
      "Epoch 23/50\n",
      "178/178 [==============================] - 407s 2s/step - loss: 0.1625 - categorical_accuracy: 0.9443 - val_loss: 0.7253 - val_categorical_accuracy: 0.7875\n",
      "Epoch 24/50\n",
      "178/178 [==============================] - 339s 2s/step - loss: 0.1730 - categorical_accuracy: 0.9458 - val_loss: 0.8468 - val_categorical_accuracy: 0.7492\n",
      "Epoch 25/50\n",
      "178/178 [==============================] - 340s 2s/step - loss: 0.1417 - categorical_accuracy: 0.9519 - val_loss: 0.3789 - val_categorical_accuracy: 0.8828\n",
      "Epoch 26/50\n",
      "178/178 [==============================] - 414s 2s/step - loss: 0.1460 - categorical_accuracy: 0.9493 - val_loss: 0.2094 - val_categorical_accuracy: 0.9312\n",
      "Epoch 27/50\n",
      "178/178 [==============================] - 484s 3s/step - loss: 0.1540 - categorical_accuracy: 0.9493 - val_loss: 0.6942 - val_categorical_accuracy: 0.6836\n",
      "Epoch 28/50\n",
      "178/178 [==============================] - 378s 2s/step - loss: 0.1435 - categorical_accuracy: 0.9507 - val_loss: 0.1396 - val_categorical_accuracy: 0.9594\n",
      "Epoch 29/50\n",
      "178/178 [==============================] - 407s 2s/step - loss: 0.1346 - categorical_accuracy: 0.9570 - val_loss: 0.3043 - val_categorical_accuracy: 0.9047\n",
      "Epoch 30/50\n",
      "178/178 [==============================] - 355s 2s/step - loss: 0.1340 - categorical_accuracy: 0.9584 - val_loss: 7.0579 - val_categorical_accuracy: 0.3211\n",
      "Epoch 31/50\n",
      "178/178 [==============================] - 345s 2s/step - loss: 0.1184 - categorical_accuracy: 0.9637 - val_loss: 0.3005 - val_categorical_accuracy: 0.8945\n",
      "Epoch 32/50\n",
      "178/178 [==============================] - 344s 2s/step - loss: 0.1011 - categorical_accuracy: 0.9664 - val_loss: 0.4454 - val_categorical_accuracy: 0.8852\n",
      "Epoch 33/50\n",
      "178/178 [==============================] - 343s 2s/step - loss: 0.1259 - categorical_accuracy: 0.9586 - val_loss: 0.2090 - val_categorical_accuracy: 0.9453\n",
      "Epoch 34/50\n",
      "178/178 [==============================] - 343s 2s/step - loss: 0.1370 - categorical_accuracy: 0.9613 - val_loss: 0.8258 - val_categorical_accuracy: 0.8398\n",
      "Epoch 35/50\n",
      "178/178 [==============================] - 343s 2s/step - loss: 0.1323 - categorical_accuracy: 0.9572 - val_loss: 3.7536 - val_categorical_accuracy: 0.5758\n",
      "Epoch 36/50\n",
      "178/178 [==============================] - 344s 2s/step - loss: 0.1212 - categorical_accuracy: 0.9637 - val_loss: 3.5877 - val_categorical_accuracy: 0.5680\n",
      "Epoch 37/50\n",
      "178/178 [==============================] - 343s 2s/step - loss: 0.1127 - categorical_accuracy: 0.9641 - val_loss: 0.4211 - val_categorical_accuracy: 0.9039\n",
      "Epoch 38/50\n",
      "178/178 [==============================] - 345s 2s/step - loss: 0.0940 - categorical_accuracy: 0.9722 - val_loss: 1.7581 - val_categorical_accuracy: 0.6383\n",
      "Epoch 39/50\n",
      "178/178 [==============================] - 357s 2s/step - loss: 0.1195 - categorical_accuracy: 0.9648 - val_loss: 2.0311 - val_categorical_accuracy: 0.5820\n",
      "Epoch 40/50\n",
      "178/178 [==============================] - 353s 2s/step - loss: 0.0868 - categorical_accuracy: 0.9727 - val_loss: 0.4037 - val_categorical_accuracy: 0.8711\n",
      "Epoch 41/50\n",
      "178/178 [==============================] - 331s 2s/step - loss: 0.1072 - categorical_accuracy: 0.9683 - val_loss: 0.1042 - val_categorical_accuracy: 0.9586\n",
      "Epoch 42/50\n",
      "178/178 [==============================] - 327s 2s/step - loss: 0.0962 - categorical_accuracy: 0.9704 - val_loss: 0.1285 - val_categorical_accuracy: 0.9531\n",
      "Epoch 43/50\n",
      "178/178 [==============================] - 329s 2s/step - loss: 0.0767 - categorical_accuracy: 0.9725 - val_loss: 0.1516 - val_categorical_accuracy: 0.9547\n",
      "Epoch 44/50\n",
      "178/178 [==============================] - 330s 2s/step - loss: 0.0853 - categorical_accuracy: 0.9694 - val_loss: 0.2376 - val_categorical_accuracy: 0.9297\n",
      "Epoch 45/50\n",
      "178/178 [==============================] - 330s 2s/step - loss: 0.1090 - categorical_accuracy: 0.9679 - val_loss: 1.8316 - val_categorical_accuracy: 0.5516\n",
      "Epoch 46/50\n",
      "178/178 [==============================] - 329s 2s/step - loss: 0.1019 - categorical_accuracy: 0.9695 - val_loss: 1.2997 - val_categorical_accuracy: 0.6797\n",
      "Epoch 47/50\n",
      "178/178 [==============================] - 329s 2s/step - loss: 0.1631 - categorical_accuracy: 0.9542 - val_loss: 16.5915 - val_categorical_accuracy: 0.3398\n",
      "Epoch 48/50\n",
      "178/178 [==============================] - 389s 2s/step - loss: 0.1160 - categorical_accuracy: 0.9655 - val_loss: 5.0086 - val_categorical_accuracy: 0.3617\n",
      "Epoch 49/50\n",
      "178/178 [==============================] - 402s 2s/step - loss: 0.0959 - categorical_accuracy: 0.9702 - val_loss: 0.1171 - val_categorical_accuracy: 0.9555\n"
     ]
    },
    {
     "name": "stdout",
     "output_type": "stream",
     "text": [
      "Epoch 50/50\n",
      "178/178 [==============================] - 403s 2s/step - loss: 0.0847 - categorical_accuracy: 0.9759 - val_loss: 0.1089 - val_categorical_accuracy: 0.9625\n"
     ]
    }
   ],
   "source": [
    "results2 = model2.fit_generator(train, epochs = 50, steps_per_epoch = 5710//32, validation_data=test, validation_steps = 1311//32)"
   ]
  },
  {
   "cell_type": "code",
   "execution_count": 25,
   "metadata": {},
   "outputs": [],
   "source": [
    "model2.save(\"CNN Model final.h5\")"
   ]
  },
  {
   "cell_type": "code",
   "execution_count": 3,
   "metadata": {},
   "outputs": [],
   "source": [
    "from tensorflow.keras.models import load_model"
   ]
  },
  {
   "cell_type": "code",
   "execution_count": 5,
   "metadata": {},
   "outputs": [],
   "source": [
    "temp = load_model(\"CNN Model final.h5\")"
   ]
  },
  {
   "cell_type": "code",
   "execution_count": 11,
   "metadata": {},
   "outputs": [],
   "source": [
    "img1=train_path +\"glioma\\\\\" + os.listdir(train_path+\"glioma\\\\\")[60]\n",
    "img2=train_path +\"meningioma\\\\\" + os.listdir(train_path+\"meningioma\\\\\")[0]\n",
    "img3=train_path +\"notumor\\\\\" + os.listdir(train_path+\"notumor\\\\\")[0]\n",
    "img4=train_path +\"pituitary\\\\\" + os.listdir(train_path+\"pituitary\\\\\")[0]"
   ]
  },
  {
   "cell_type": "code",
   "execution_count": 1,
   "metadata": {},
   "outputs": [],
   "source": [
    "from tensorflow.keras.preprocessing.image import load_img\n",
    "from skimage.color import rgb2gray"
   ]
  },
  {
   "cell_type": "code",
   "execution_count": 2,
   "metadata": {},
   "outputs": [],
   "source": [
    "def open_images(paths):\n",
    "    '''\n",
    "    Opens a batch of images, given the image path(s) as a list\n",
    "    '''\n",
    "    images = []\n",
    "    for path in paths:\n",
    "        image = load_img(path, target_size=image_shape, grayscale=True)\n",
    "        image = np.array(image)/255.0\n",
    "        image=image.reshape(64, 64, 1)\n",
    "        images.append(image)\n",
    "    return np.array(images)"
   ]
  },
  {
   "cell_type": "code",
   "execution_count": 195,
   "metadata": {},
   "outputs": [
    {
     "data": {
      "text/plain": [
       "'glioma'"
      ]
     },
     "execution_count": 195,
     "metadata": {},
     "output_type": "execute_result"
    }
   ],
   "source": [
    "label[temp.predict_classes(images)[0]]"
   ]
  },
  {
   "cell_type": "code",
   "execution_count": null,
   "metadata": {},
   "outputs": [],
   "source": []
  }
 ],
 "metadata": {
  "kernelspec": {
   "display_name": "Python 3",
   "language": "python",
   "name": "python3"
  },
  "language_info": {
   "codemirror_mode": {
    "name": "ipython",
    "version": 3
   },
   "file_extension": ".py",
   "mimetype": "text/x-python",
   "name": "python",
   "nbconvert_exporter": "python",
   "pygments_lexer": "ipython3",
   "version": "3.8.3"
  }
 },
 "nbformat": 4,
 "nbformat_minor": 5
}
